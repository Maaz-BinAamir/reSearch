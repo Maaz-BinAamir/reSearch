{
 "cells": [
  {
   "cell_type": "code",
   "execution_count": null,
   "id": "46661ce3-c70a-4274-8d76-355ffe6b3f2a",
   "metadata": {},
   "outputs": [],
   "source": [
    "import pandas as pd"
   ]
  },
  {
   "cell_type": "code",
   "execution_count": null,
   "id": "ea4354c2-2dfc-4de5-8d9f-f41b0b3d0e7b",
   "metadata": {},
   "outputs": [],
   "source": [
    "# reading the csv file\n",
    "\n",
    "df = pd.read_csv(\"D:\\\\code\\\\python 2.0\\\\dblp-citation-network-v14.csv\", delimiter = \"|\")\n",
    "df"
   ]
  },
  {
   "cell_type": "code",
   "execution_count": null,
   "id": "d66aff53-14e6-4712-b51e-34e8169f3e27",
   "metadata": {},
   "outputs": [],
   "source": [
    "# Cleaning the data\n",
    "\n",
    "# Removing data with no keywords or no URL\n",
    "df = df[df['keywords'] != \"[]\"]\n",
    "df = df[df['url'] != \"[]\"]\n",
    "\n",
    "# Remove rows where abstract is NaN\n",
    "df = df[df['abstract'].notna()]\n",
    "\n",
    "# Remove rows where the length of abstract is less than a threshold (350 chars)\n",
    "min_length = 350\n",
    "df = df[df['abstract'].str.len() >= min_length]"
   ]
  },
  {
   "cell_type": "code",
   "execution_count": null,
   "id": "78aa518b-688c-4864-8f45-3e24f7696104",
   "metadata": {},
   "outputs": [],
   "source": [
    "pd.set_option('display.max_colwidth', None)  # Do not truncate column content\n",
    "pd.set_option('display.max_rows', 1000) # Show more columns(1000)"
   ]
  },
  {
   "cell_type": "code",
   "execution_count": null,
   "id": "3372dcab-9512-4ce8-bc3d-03e69551fd3d",
   "metadata": {},
   "outputs": [],
   "source": [
    "# showing the shape (rows, columns)\n",
    "df.shape"
   ]
  },
  {
   "cell_type": "code",
   "execution_count": null,
   "id": "33274fb2-3667-404c-a7e2-6ab9c6a40394",
   "metadata": {},
   "outputs": [],
   "source": [
    "# Selecting the columns of the dataset we want to implement search\n",
    "columns_to_display = ['title', 'abstract', 'year', 'keywords', 'n_citation', 'url']\n",
    "df[columns_to_display].head(100) # displaying the first 100"
   ]
  },
  {
   "cell_type": "code",
   "execution_count": null,
   "id": "67a59e69-0e82-4f89-b4f9-7d90c97ebf91",
   "metadata": {},
   "outputs": [],
   "source": [
    "# Outputing the csv file containing the first 50,000 rows\n",
    "output_path = \"D:\\\\code\\\\python 2.0\\\\exported_data.csv\"\n",
    "\n",
    "df[columns_to_display].head(50000).to_csv(output_path, index=False)"
   ]
  }
 ],
 "metadata": {
  "kernelspec": {
   "display_name": "Python 3 (ipykernel)",
   "language": "python",
   "name": "python3"
  },
  "language_info": {
   "codemirror_mode": {
    "name": "ipython",
    "version": 3
   },
   "file_extension": ".py",
   "mimetype": "text/x-python",
   "name": "python",
   "nbconvert_exporter": "python",
   "pygments_lexer": "ipython3",
   "version": "3.11.7"
  }
 },
 "nbformat": 4,
 "nbformat_minor": 5
}
